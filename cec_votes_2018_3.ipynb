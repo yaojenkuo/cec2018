{
 "cells": [
  {
   "cell_type": "markdown",
   "metadata": {
    "slideshow": {
     "slide_type": "slide"
    }
   },
   "source": [
    "# 資料視覺化與向量輸出\n",
    "\n",
    "> 以中選會 2018 選舉資料為例\n",
    "\n",
    "[Pyradise](https://www.facebook.com/pyradise.geek/)，郭耀仁"
   ]
  },
  {
   "cell_type": "markdown",
   "metadata": {
    "slideshow": {
     "slide_type": "subslide"
    }
   },
   "source": [
    "## 開始之前\n",
    "\n",
    "<https://www.sli.do/> Event code: 2307"
   ]
  },
  {
   "cell_type": "markdown",
   "metadata": {
    "slideshow": {
     "slide_type": "subslide"
    }
   },
   "source": [
    "## 關於我們\n",
    "\n",
    "- 由[台大資訊系統訓練班](https://train.csie.ntu.edu.tw/train/)的講師組成\n",
    "- 希望以 Web Development、Data Science 作主軸定期辦聚會\n",
    "- 訂閱 [Pyradise](https://medium.com/pyradise) 與 [DataInPoint](https://medium.com/datainpoint) 的 Medium 專欄\n",
    "- 追蹤 [Pyradise](https://www.facebook.com/pyradise.geek/) 與 [DataInPoint](https://www.facebook.com/datainpoint/) 的粉絲專頁"
   ]
  },
  {
   "cell_type": "markdown",
   "metadata": {
    "slideshow": {
     "slide_type": "subslide"
    }
   },
   "source": [
    "## 關於我\n",
    "\n",
    "資料科學與推廣教育的愛好者，台大商研所畢，創辦 [DataInPoint](https://www.datainpoint.com) 致力為資料科學愛好者提供最棒的教學資源。任職過上海的外商新創團隊、台北的外商軟體公司與民營銀行，閒暇時喜歡長跑與乒乓球。"
   ]
  },
  {
   "cell_type": "markdown",
   "metadata": {
    "slideshow": {
     "slide_type": "subslide"
    }
   },
   "source": [
    "## 議程\n",
    "\n",
    "- 動機\n",
    "- 前情提要\n",
    "- 如何分享資料\n",
    "- BBC 的 bbplot\n",
    "- 使用向量圖片編輯軟體"
   ]
  },
  {
   "cell_type": "markdown",
   "metadata": {
    "slideshow": {
     "slide_type": "slide"
    }
   },
   "source": [
    "## 動機"
   ]
  },
  {
   "cell_type": "markdown",
   "metadata": {
    "slideshow": {
     "slide_type": "subslide"
    }
   },
   "source": [
    "## 2018-11-24 之後有感\n",
    "\n",
    "- 同溫層崩潰\n",
    "- 動起來，覺得應該做些什麼\n",
    "- 感謝 AWS、讚嘆 AWS！"
   ]
  },
  {
   "cell_type": "markdown",
   "metadata": {
    "slideshow": {
     "slide_type": "subslide"
    }
   },
   "source": [
    "![](img/006.jpg_large)\n",
    "\n",
    "Source: [Twitter#自己國家自己救](https://twitter.com/hashtag/%E8%87%AA%E5%B7%B1%E5%9C%8B%E5%AE%B6%E8%87%AA%E5%B7%B1%E6%95%91)"
   ]
  },
  {
   "cell_type": "markdown",
   "metadata": {
    "slideshow": {
     "slide_type": "subslide"
    }
   },
   "source": [
    "## 大家都動起來！\n",
    "\n",
    "- [2018最新！【九合一選舉互動地圖】](https://web.cw.com.tw/election2018/)\n",
    "- [2018 台灣公投結果中的不合理數據](https://github.com/shevajia/TaiwanReferendum)\n",
    "- [蔡依橙：陪你看國際新聞](https://i-chentsai.innovarad.tw/2019/02/inews.html)\n",
    "- [王宏恩專欄：用資料科學提高台灣民眾戰爭意識](https://tw.appledaily.com/new/realtime/20190422/1554433/)\n",
    "- [PTT 原始資料全揭露！「韓流」怎麼造出來的？](https://www.cw.com.tw/article/article.action?id=5093610)\n",
    "- ...etc."
   ]
  },
  {
   "cell_type": "markdown",
   "metadata": {
    "slideshow": {
     "slide_type": "subslide"
    }
   },
   "source": [
    "## 有效的社群訊息傳播不再是文字論述\n",
    "\n",
    "- 長輩圖\n",
    "- Noun-Project 簡報圖\n",
    "- 資料佐證的資訊圖表"
   ]
  },
  {
   "cell_type": "markdown",
   "metadata": {
    "slideshow": {
     "slide_type": "subslide"
    }
   },
   "source": [
    "## 我怎麼打算：傳播技能\n",
    "    \n",
    "1. 如何用程式幫助資料的擷取與整併\n",
    "2. 如何用程式製作視覺化\n",
    "3. 如何分享資料與美化向量圖表"
   ]
  },
  {
   "cell_type": "markdown",
   "metadata": {
    "slideshow": {
     "slide_type": "slide"
    }
   },
   "source": [
    "# 前情提要"
   ]
  },
  {
   "cell_type": "markdown",
   "metadata": {
    "slideshow": {
     "slide_type": "subslide"
    }
   },
   "source": [
    "## 投票所明細資料來源\n",
    "\n",
    "[中選會選舉資料庫網站](http://db.cec.gov.tw/histMain.jsp?voteSel=20181101B1)"
   ]
  },
  {
   "cell_type": "markdown",
   "metadata": {
    "slideshow": {
     "slide_type": "subslide"
    }
   },
   "source": [
    "## 直轄市長、縣市長各投票所明細\n",
    "\n",
    "以[台北市](https://s3-ap-northeast-1.amazonaws.com/tw-election-2018/city-mayor/100.xls)為例\n",
    "\n",
    "![](img/001.png)"
   ]
  },
  {
   "cell_type": "markdown",
   "metadata": {
    "slideshow": {
     "slide_type": "subslide"
    }
   },
   "source": [
    "## 直轄市議員、縣市議員各投票所明細\n",
    "\n",
    "以[台北市](https://s3-ap-northeast-1.amazonaws.com/tw-election-2018/city-councilor/100.xls)為例\n",
    "\n",
    "![](img/002.png)"
   ]
  },
  {
   "cell_type": "markdown",
   "metadata": {
    "slideshow": {
     "slide_type": "subslide"
    }
   },
   "source": [
    "## 公投(各投開票所)得票數一覽表\n",
    "\n",
    "以[台北市](https://s3-ap-northeast-1.amazonaws.com/tw-election-2018/referendum/100.xls)為例\n",
    "\n",
    "![](img/003.png)"
   ]
  },
  {
   "cell_type": "markdown",
   "metadata": {
    "slideshow": {
     "slide_type": "subslide"
    }
   },
   "source": [
    "## 直接用 `pandas` 讀入"
   ]
  },
  {
   "cell_type": "code",
   "execution_count": 1,
   "metadata": {
    "slideshow": {
     "slide_type": "-"
    }
   },
   "outputs": [
    {
     "name": "stdout",
     "output_type": "stream",
     "text": [
      "(62689, 8)\n"
     ]
    }
   ],
   "source": [
    "import pandas as pd\n",
    "\n",
    "mayors = pd.read_csv(\"https://s3-ap-northeast-1.amazonaws.com/tw-election-2018/mayors.csv\")\n",
    "print(mayors.shape)"
   ]
  },
  {
   "cell_type": "code",
   "execution_count": 2,
   "metadata": {
    "slideshow": {
     "slide_type": "subslide"
    }
   },
   "outputs": [
    {
     "data": {
      "text/html": [
       "<div>\n",
       "<style scoped>\n",
       "    .dataframe tbody tr th:only-of-type {\n",
       "        vertical-align: middle;\n",
       "    }\n",
       "\n",
       "    .dataframe tbody tr th {\n",
       "        vertical-align: top;\n",
       "    }\n",
       "\n",
       "    .dataframe thead th {\n",
       "        text-align: right;\n",
       "    }\n",
       "</style>\n",
       "<table border=\"1\" class=\"dataframe\">\n",
       "  <thead>\n",
       "    <tr style=\"text-align: right;\">\n",
       "      <th></th>\n",
       "      <th>admin_area</th>\n",
       "      <th>district</th>\n",
       "      <th>village</th>\n",
       "      <th>office</th>\n",
       "      <th>number</th>\n",
       "      <th>party</th>\n",
       "      <th>candidate</th>\n",
       "      <th>votes</th>\n",
       "    </tr>\n",
       "  </thead>\n",
       "  <tbody>\n",
       "    <tr>\n",
       "      <th>0</th>\n",
       "      <td>台北市</td>\n",
       "      <td>北投區</td>\n",
       "      <td>建民里</td>\n",
       "      <td>1</td>\n",
       "      <td>1</td>\n",
       "      <td>無黨籍</td>\n",
       "      <td>吳蕚洋</td>\n",
       "      <td>4</td>\n",
       "    </tr>\n",
       "    <tr>\n",
       "      <th>1</th>\n",
       "      <td>台北市</td>\n",
       "      <td>北投區</td>\n",
       "      <td>建民里</td>\n",
       "      <td>2</td>\n",
       "      <td>1</td>\n",
       "      <td>無黨籍</td>\n",
       "      <td>吳蕚洋</td>\n",
       "      <td>2</td>\n",
       "    </tr>\n",
       "    <tr>\n",
       "      <th>2</th>\n",
       "      <td>台北市</td>\n",
       "      <td>北投區</td>\n",
       "      <td>建民里</td>\n",
       "      <td>3</td>\n",
       "      <td>1</td>\n",
       "      <td>無黨籍</td>\n",
       "      <td>吳蕚洋</td>\n",
       "      <td>2</td>\n",
       "    </tr>\n",
       "    <tr>\n",
       "      <th>3</th>\n",
       "      <td>台北市</td>\n",
       "      <td>北投區</td>\n",
       "      <td>文林里</td>\n",
       "      <td>4</td>\n",
       "      <td>1</td>\n",
       "      <td>無黨籍</td>\n",
       "      <td>吳蕚洋</td>\n",
       "      <td>1</td>\n",
       "    </tr>\n",
       "    <tr>\n",
       "      <th>4</th>\n",
       "      <td>台北市</td>\n",
       "      <td>北投區</td>\n",
       "      <td>文林里</td>\n",
       "      <td>5</td>\n",
       "      <td>1</td>\n",
       "      <td>無黨籍</td>\n",
       "      <td>吳蕚洋</td>\n",
       "      <td>5</td>\n",
       "    </tr>\n",
       "  </tbody>\n",
       "</table>\n",
       "</div>"
      ],
      "text/plain": [
       "  admin_area district village  office  number party candidate  votes\n",
       "0        台北市      北投區     建民里       1       1   無黨籍       吳蕚洋      4\n",
       "1        台北市      北投區     建民里       2       1   無黨籍       吳蕚洋      2\n",
       "2        台北市      北投區     建民里       3       1   無黨籍       吳蕚洋      2\n",
       "3        台北市      北投區     文林里       4       1   無黨籍       吳蕚洋      1\n",
       "4        台北市      北投區     文林里       5       1   無黨籍       吳蕚洋      5"
      ]
     },
     "execution_count": 2,
     "metadata": {},
     "output_type": "execute_result"
    }
   ],
   "source": [
    "mayors.head()"
   ]
  },
  {
   "cell_type": "code",
   "execution_count": 3,
   "metadata": {
    "slideshow": {
     "slide_type": "subslide"
    }
   },
   "outputs": [
    {
     "data": {
      "text/html": [
       "<div>\n",
       "<style scoped>\n",
       "    .dataframe tbody tr th:only-of-type {\n",
       "        vertical-align: middle;\n",
       "    }\n",
       "\n",
       "    .dataframe tbody tr th {\n",
       "        vertical-align: top;\n",
       "    }\n",
       "\n",
       "    .dataframe thead th {\n",
       "        text-align: right;\n",
       "    }\n",
       "</style>\n",
       "<table border=\"1\" class=\"dataframe\">\n",
       "  <thead>\n",
       "    <tr style=\"text-align: right;\">\n",
       "      <th></th>\n",
       "      <th>admin_area</th>\n",
       "      <th>district</th>\n",
       "      <th>village</th>\n",
       "      <th>office</th>\n",
       "      <th>number</th>\n",
       "      <th>party</th>\n",
       "      <th>candidate</th>\n",
       "      <th>votes</th>\n",
       "    </tr>\n",
       "  </thead>\n",
       "  <tbody>\n",
       "    <tr>\n",
       "      <th>62684</th>\n",
       "      <td>連江縣</td>\n",
       "      <td>北竿鄉</td>\n",
       "      <td>后沃村、橋仔村、塘岐村</td>\n",
       "      <td>5</td>\n",
       "      <td>4</td>\n",
       "      <td>中國國民黨</td>\n",
       "      <td>劉增應</td>\n",
       "      <td>838</td>\n",
       "    </tr>\n",
       "    <tr>\n",
       "      <th>62685</th>\n",
       "      <td>連江縣</td>\n",
       "      <td>北竿鄉</td>\n",
       "      <td>坂里村、白沙村、芹壁村</td>\n",
       "      <td>6</td>\n",
       "      <td>4</td>\n",
       "      <td>中國國民黨</td>\n",
       "      <td>劉增應</td>\n",
       "      <td>301</td>\n",
       "    </tr>\n",
       "    <tr>\n",
       "      <th>62686</th>\n",
       "      <td>連江縣</td>\n",
       "      <td>莒光鄉</td>\n",
       "      <td>田沃村、西坵村、青帆村</td>\n",
       "      <td>7</td>\n",
       "      <td>4</td>\n",
       "      <td>中國國民黨</td>\n",
       "      <td>劉增應</td>\n",
       "      <td>341</td>\n",
       "    </tr>\n",
       "    <tr>\n",
       "      <th>62687</th>\n",
       "      <td>連江縣</td>\n",
       "      <td>莒光鄉</td>\n",
       "      <td>大坪村、福正村</td>\n",
       "      <td>8</td>\n",
       "      <td>4</td>\n",
       "      <td>中國國民黨</td>\n",
       "      <td>劉增應</td>\n",
       "      <td>391</td>\n",
       "    </tr>\n",
       "    <tr>\n",
       "      <th>62688</th>\n",
       "      <td>連江縣</td>\n",
       "      <td>東引鄉</td>\n",
       "      <td>樂華村、中柳村</td>\n",
       "      <td>9</td>\n",
       "      <td>4</td>\n",
       "      <td>中國國民黨</td>\n",
       "      <td>劉增應</td>\n",
       "      <td>396</td>\n",
       "    </tr>\n",
       "  </tbody>\n",
       "</table>\n",
       "</div>"
      ],
      "text/plain": [
       "      admin_area district      village  office  number  party candidate  votes\n",
       "62684        連江縣      北竿鄉  后沃村、橋仔村、塘岐村       5       4  中國國民黨       劉增應    838\n",
       "62685        連江縣      北竿鄉  坂里村、白沙村、芹壁村       6       4  中國國民黨       劉增應    301\n",
       "62686        連江縣      莒光鄉  田沃村、西坵村、青帆村       7       4  中國國民黨       劉增應    341\n",
       "62687        連江縣      莒光鄉      大坪村、福正村       8       4  中國國民黨       劉增應    391\n",
       "62688        連江縣      東引鄉      樂華村、中柳村       9       4  中國國民黨       劉增應    396"
      ]
     },
     "execution_count": 3,
     "metadata": {},
     "output_type": "execute_result"
    }
   ],
   "source": [
    "mayors.tail()"
   ]
  },
  {
   "cell_type": "markdown",
   "metadata": {
    "slideshow": {
     "slide_type": "subslide"
    }
   },
   "source": [
    "## 以 pandas 與 folium 作圖\n",
    "\n",
    "![](img/007.png)"
   ]
  },
  {
   "cell_type": "markdown",
   "metadata": {
    "slideshow": {
     "slide_type": "slide"
    }
   },
   "source": [
    "## 如何分享資料"
   ]
  },
  {
   "cell_type": "markdown",
   "metadata": {
    "slideshow": {
     "slide_type": "subslide"
    }
   },
   "source": [
    "## 常見資料分享方式\n",
    "\n",
    "- 以隨身碟傳輸\n",
    "- 存放於雲端硬碟：Google Drive、Dropbox\n",
    "- 存放於雲端服務：Google Cloud Storage、AWS S3\n",
    "- 製作成 PyPi、CRAN 的套件"
   ]
  },
  {
   "cell_type": "markdown",
   "metadata": {
    "slideshow": {
     "slide_type": "subslide"
    }
   },
   "source": [
    "## API, Application Program Interfaces\n",
    "\n",
    "- 建構於網站應用程式的 API\n",
    "- 作業系統的 API\n",
    "- 資料庫系統的 API\n",
    "- 電腦硬體的 API\n",
    "- 軟體應用程式的 API"
   ]
  },
  {
   "cell_type": "markdown",
   "metadata": {
    "slideshow": {
     "slide_type": "subslide"
    }
   },
   "source": [
    "## Web API：建構於網站應用程式的 API\n",
    "\n",
    "> 試想在一個資料科學團隊中，不同角色依據職務屬性，有著各自慣用的開發環境與程式語言，像是熟悉寫作 R、Julia 的統計學家、熟悉寫作 Python、Scala 的資料工程師、熟悉寫作 JavaScript 的商業儀表板前端工程師，在一個需要彼此合作的專案中，Web API 可以有效地讓各個工作流透過網路呼叫彼此的程式並回傳結果"
   ]
  },
  {
   "cell_type": "markdown",
   "metadata": {
    "slideshow": {
     "slide_type": "subslide"
    }
   },
   "source": [
    "## 使用 Web API 的好時機\n",
    "\n",
    "- 資料更新的速度快、頻率高，生成靜態資料集檔案過於緩慢\n",
    "- 使用者可能只需要龐大資料中的一個子集（subset）\n",
    "- 資料有重複運算的特性"
   ]
  },
  {
   "cell_type": "markdown",
   "metadata": {
    "slideshow": {
     "slide_type": "subslide"
    }
   },
   "source": [
    "## 嚴格來說，我們的資料不需要建構 Web API...\n",
    "\n",
    "靜態的 CSV 檔案其實足夠。"
   ]
  },
  {
   "cell_type": "markdown",
   "metadata": {
    "slideshow": {
     "slide_type": "subslide"
    }
   },
   "source": [
    "## But...\n",
    "\n",
    "- 資料是用 Python 整併\n",
    "- 出圖想用 R 的 bbplot"
   ]
  },
  {
   "cell_type": "markdown",
   "metadata": {
    "slideshow": {
     "slide_type": "subslide"
    }
   },
   "source": [
    "## 好像跟剛剛試想的情境有點像？（X）\n",
    "\n",
    "## 其實是要講一點 AWS 啦！（O）"
   ]
  },
  {
   "cell_type": "markdown",
   "metadata": {
    "slideshow": {
     "slide_type": "subslide"
    }
   },
   "source": [
    "## 先來開一個 AWS EC2\n",
    "\n",
    "![](img/008.png)"
   ]
  },
  {
   "cell_type": "markdown",
   "metadata": {
    "slideshow": {
     "slide_type": "subslide"
    }
   },
   "source": [
    "## 選 Ubuntu, Free tier eligible\n",
    "\n",
    "有 Python3 與 Git 便利後續動作\n",
    "\n",
    "![](img/009.png)"
   ]
  },
  {
   "cell_type": "markdown",
   "metadata": {
    "slideshow": {
     "slide_type": "subslide"
    }
   },
   "source": [
    "## 中間步驟都採預設"
   ]
  },
  {
   "cell_type": "markdown",
   "metadata": {
    "slideshow": {
     "slide_type": "subslide"
    }
   },
   "source": [
    "## Configure Security Group 要新增設定\n",
    "\n",
    "![](img/010.png)"
   ]
  },
  {
   "cell_type": "markdown",
   "metadata": {
    "slideshow": {
     "slide_type": "subslide"
    }
   },
   "source": [
    "## 用 SSH 與憑證連線\n",
    "\n",
    "![](img/011.png)"
   ]
  },
  {
   "cell_type": "markdown",
   "metadata": {
    "slideshow": {
     "slide_type": "subslide"
    }
   },
   "source": [
    "## 更新 apt-get、安裝 pip\n",
    "\n",
    "```sh\n",
    "sudo apt-get update\n",
    "sudo apt-get install python3-pip\n",
    "```"
   ]
  },
  {
   "cell_type": "markdown",
   "metadata": {
    "slideshow": {
     "slide_type": "subslide"
    }
   },
   "source": [
    "## 用 pip 安裝 flask、pandas\n",
    "\n",
    "```sh\n",
    "pip3 install flask pandas\n",
    "```"
   ]
  },
  {
   "cell_type": "markdown",
   "metadata": {
    "slideshow": {
     "slide_type": "subslide"
    }
   },
   "source": [
    "## 用 Flask 搭建一個 Web API: Hello Flask!\n",
    "\n",
    "```python\n",
    "# api.py\n",
    "import flask\n",
    "\n",
    "app = flask.Flask(__name__)\n",
    "app.config[\"DEBUG\"] = True\n",
    "\n",
    "\n",
    "@app.route('/', methods=['GET'])\n",
    "def home():\n",
    "    return \"<h1>Hello Flask!</h1>\"\n",
    "\n",
    "app.run(host='0.0.0.0', port=80)\n",
    "```"
   ]
  },
  {
   "cell_type": "markdown",
   "metadata": {
    "slideshow": {
     "slide_type": "subslide"
    }
   },
   "source": [
    "## 啟動 Hello Flask!\n",
    "\n",
    "```sh\n",
    "sudo python3 api.py\n",
    "```"
   ]
  },
  {
   "cell_type": "markdown",
   "metadata": {
    "slideshow": {
     "slide_type": "subslide"
    }
   },
   "source": [
    "## 將 IPv4 貼到瀏覽器的 URL 列試試看！"
   ]
  },
  {
   "cell_type": "markdown",
   "metadata": {
    "slideshow": {
     "slide_type": "subslide"
    }
   },
   "source": [
    "## 用 Flask 搭建一個 Web API: 手動創建測試資料\n",
    "\n",
    "<https://gist.github.com/yaojenkuo/f0daf5f09fd4b931ec15537c8937c2ef>"
   ]
  },
  {
   "cell_type": "markdown",
   "metadata": {
    "slideshow": {
     "slide_type": "subslide"
    }
   },
   "source": [
    "## 將城市名稱改成中文會怎麼樣？\n",
    "\n",
    "<https://gist.github.com/yaojenkuo/04675c51958d33837a1618db73abc84b>"
   ]
  },
  {
   "cell_type": "markdown",
   "metadata": {
    "slideshow": {
     "slide_type": "subslide"
    }
   },
   "source": [
    "## 加入參數設定\n",
    "\n",
    "```python\n",
    "app.config[\"JSON_AS_ASCII\"] = False\n",
    "```"
   ]
  },
  {
   "cell_type": "markdown",
   "metadata": {
    "slideshow": {
     "slide_type": "subslide"
    }
   },
   "source": [
    "## 可以正常運作了！"
   ]
  },
  {
   "cell_type": "markdown",
   "metadata": {
    "slideshow": {
     "slide_type": "subslide"
    }
   },
   "source": [
    "## 加入現成的資料試試！\n",
    "\n",
    "```sh\n",
    "wget https://s3-ap-northeast-1.amazonaws.com/sqlite-demo-data/gapminder.csv\n",
    "wget https://s3-ap-northeast-1.amazonaws.com/sqlite-demo-data/mayors.csv\n",
    "```"
   ]
  },
  {
   "cell_type": "markdown",
   "metadata": {
    "slideshow": {
     "slide_type": "subslide"
    }
   },
   "source": [
    "## 利用 pandas 將 CSV 檔案換成 list of dictinaries\n",
    "\n",
    "<https://gist.github.com/yaojenkuo/43f9b25a0672faf3f4f016083fd6464d>"
   ]
  },
  {
   "cell_type": "markdown",
   "metadata": {
    "slideshow": {
     "slide_type": "subslide"
    }
   },
   "source": [
    "## 用 R 語言呼叫試試看"
   ]
  },
  {
   "cell_type": "markdown",
   "metadata": {
    "slideshow": {
     "slide_type": "subslide"
    }
   },
   "source": [
    "## 我們還有非常多的問題沒有解決\n",
    "\n",
    "- 如何讓使用者可以找到特定資料？\n",
    "- 如何讓資料以 Database 的形式呈現給 Web API?\n",
    "- 如何讓 Web API 可以 24-7 分享資料？\n",
    "- ...etc."
   ]
  },
  {
   "cell_type": "markdown",
   "metadata": {
    "slideshow": {
     "slide_type": "subslide"
    }
   },
   "source": [
    "## 請持續關注 Pyradise, DataInPoint 的活動訊息、教學文章\n",
    "\n",
    "- <https://www.facebook.com/pyradise.geek/>\n",
    "- <https://www.facebook.com/datainpoint/>"
   ]
  },
  {
   "cell_type": "markdown",
   "metadata": {
    "slideshow": {
     "slide_type": "slide"
    }
   },
   "source": [
    "## BBC 的 bbplot\n",
    "\n",
    "[BBC 的 bbplot](bbplot_quickstart.html)"
   ]
  },
  {
   "cell_type": "markdown",
   "metadata": {
    "slideshow": {
     "slide_type": "slide"
    }
   },
   "source": [
    "## 使用向量圖片編輯軟體"
   ]
  },
  {
   "cell_type": "markdown",
   "metadata": {
    "slideshow": {
     "slide_type": "subslide"
    }
   },
   "source": [
    "## Adobe Illustrator\n",
    "\n",
    "<https://www.adobe.com/tw/products/illustrator/free-trial-download.html>"
   ]
  },
  {
   "cell_type": "markdown",
   "metadata": {
    "slideshow": {
     "slide_type": "subslide"
    }
   },
   "source": [
    "## 資料視覺化工具箱\n",
    "\n",
    "![](img/012.png)\n",
    "\n",
    "Source: [You Can Design a Good Chart with R](https://towardsdatascience.com/you-can-design-a-good-chart-with-r-5d00ed7dd18e)"
   ]
  },
  {
   "cell_type": "markdown",
   "metadata": {
    "slideshow": {
     "slide_type": "subslide"
    }
   },
   "source": [
    "## 從 1 到 2\n",
    "\n",
    "- 0: Basic plotting system / 基礎 ggplot2\n",
    "- 1: 有主題的 ggplot2(像是 bbplot)\n",
    "- 2: 請設計師用 Illustrator 編輯\n",
    "- 3: 請網頁工程師以 D3.js 設計"
   ]
  },
  {
   "cell_type": "markdown",
   "metadata": {
    "slideshow": {
     "slide_type": "subslide"
    }
   },
   "source": [
    "## 從 1 到 2 步驟\n",
    "\n",
    "1. 輸出為 pdf 格式\n",
    "2. 在 Illustrator 開啟\n",
    "3. 將 Clipping Mask 移除\n",
    "4. 斟酌是否移除邊界與刻度\n",
    "5. 修正文字\n",
    "6. 輸出"
   ]
  }
 ],
 "metadata": {
  "celltoolbar": "Slideshow",
  "colab": {
   "name": "cec-votes-2018.ipynb",
   "provenance": [],
   "version": "0.3.2"
  },
  "kernelspec": {
   "display_name": "Python 3",
   "language": "python",
   "name": "python3"
  },
  "language_info": {
   "codemirror_mode": {
    "name": "ipython",
    "version": 3
   },
   "file_extension": ".py",
   "mimetype": "text/x-python",
   "name": "python",
   "nbconvert_exporter": "python",
   "pygments_lexer": "ipython3",
   "version": "3.7.1"
  }
 },
 "nbformat": 4,
 "nbformat_minor": 1
}
